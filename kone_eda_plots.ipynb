{
 "cells": [
  {
   "cell_type": "code",
   "execution_count": 26,
   "metadata": {},
   "outputs": [],
   "source": [
    "import pandas as pd\n",
    "import matplotlib.pyplot as plt"
   ]
  },
  {
   "cell_type": "code",
   "execution_count": 22,
   "metadata": {},
   "outputs": [],
   "source": [
    "import seaborn as sns"
   ]
  },
  {
   "cell_type": "code",
   "execution_count": 2,
   "metadata": {},
   "outputs": [],
   "source": [
    "#load train data\n",
    "df = pd.read_csv(\"Junction 2021/train.csv\")"
   ]
  },
  {
   "cell_type": "code",
   "execution_count": 53,
   "metadata": {},
   "outputs": [],
   "source": [
    "#load test data\n",
    "df_test = pd.read_csv(\"Junction 2021/test.csv\")"
   ]
  },
  {
   "cell_type": "code",
   "execution_count": 19,
   "metadata": {},
   "outputs": [
    {
     "name": "stdout",
     "output_type": "stream",
     "text": [
      "<class 'pandas.core.frame.DataFrame'>\n",
      "RangeIndex: 115475 entries, 0 to 115474\n",
      "Data columns (total 13 columns):\n",
      " #   Column                          Non-Null Count   Dtype \n",
      "---  ------                          --------------   ----- \n",
      " 0   case_id                         115475 non-null  object\n",
      " 1   equipment_id                    115475 non-null  object\n",
      " 2   completion_date                 115475 non-null  object\n",
      " 3   action_recommendation_id        115475 non-null  object\n",
      " 4   action_recommendation_type      115475 non-null  object\n",
      " 5   action_recommendation_category  115475 non-null  object\n",
      " 6   equipment_area                  115475 non-null  object\n",
      " 7   usage_type                      115475 non-null  object\n",
      " 8   speed_category                  115475 non-null  int64 \n",
      " 9   load_category                   115475 non-null  int64 \n",
      " 10  floors_category                 115475 non-null  int64 \n",
      " 11  equipment_category              115475 non-null  object\n",
      " 12  feedback                        115475 non-null  int64 \n",
      "dtypes: int64(4), object(9)\n",
      "memory usage: 11.5+ MB\n"
     ]
    }
   ],
   "source": [
    "#general info train.csv\n",
    "df.info()"
   ]
  },
  {
   "cell_type": "code",
   "execution_count": 3,
   "metadata": {
    "scrolled": true
   },
   "outputs": [
    {
     "data": {
      "text/html": [
       "<div>\n",
       "<style scoped>\n",
       "    .dataframe tbody tr th:only-of-type {\n",
       "        vertical-align: middle;\n",
       "    }\n",
       "\n",
       "    .dataframe tbody tr th {\n",
       "        vertical-align: top;\n",
       "    }\n",
       "\n",
       "    .dataframe thead th {\n",
       "        text-align: right;\n",
       "    }\n",
       "</style>\n",
       "<table border=\"1\" class=\"dataframe\">\n",
       "  <thead>\n",
       "    <tr style=\"text-align: right;\">\n",
       "      <th></th>\n",
       "      <th>case_id</th>\n",
       "      <th>equipment_id</th>\n",
       "      <th>completion_date</th>\n",
       "      <th>action_recommendation_id</th>\n",
       "      <th>action_recommendation_type</th>\n",
       "      <th>action_recommendation_category</th>\n",
       "      <th>equipment_area</th>\n",
       "      <th>usage_type</th>\n",
       "      <th>speed_category</th>\n",
       "      <th>load_category</th>\n",
       "      <th>floors_category</th>\n",
       "      <th>equipment_category</th>\n",
       "      <th>feedback</th>\n",
       "    </tr>\n",
       "  </thead>\n",
       "  <tbody>\n",
       "    <tr>\n",
       "      <th>0</th>\n",
       "      <td>b7c775ad-4ebe-4848-9c53-37e7c5658e21</td>\n",
       "      <td>ele0000754</td>\n",
       "      <td>2018-10-03</td>\n",
       "      <td>ar00000174</td>\n",
       "      <td>art01</td>\n",
       "      <td>arc03</td>\n",
       "      <td>ga00000803</td>\n",
       "      <td>ut012</td>\n",
       "      <td>7</td>\n",
       "      <td>6</td>\n",
       "      <td>8</td>\n",
       "      <td>tp006</td>\n",
       "      <td>1</td>\n",
       "    </tr>\n",
       "    <tr>\n",
       "      <th>1</th>\n",
       "      <td>b177eefd-3946-4949-9699-0a91879350f9</td>\n",
       "      <td>ele0000789</td>\n",
       "      <td>2018-10-03</td>\n",
       "      <td>ar00000248</td>\n",
       "      <td>art02</td>\n",
       "      <td>arc03</td>\n",
       "      <td>ga00000269</td>\n",
       "      <td>ut005</td>\n",
       "      <td>4</td>\n",
       "      <td>6</td>\n",
       "      <td>2</td>\n",
       "      <td>tp001</td>\n",
       "      <td>1</td>\n",
       "    </tr>\n",
       "    <tr>\n",
       "      <th>2</th>\n",
       "      <td>fc2d568a-c53c-43ef-8871-a49ec22ab3b1</td>\n",
       "      <td>ele0001227</td>\n",
       "      <td>2018-10-03</td>\n",
       "      <td>ar00000158</td>\n",
       "      <td>art02</td>\n",
       "      <td>arc03</td>\n",
       "      <td>ga00000064</td>\n",
       "      <td>ut011</td>\n",
       "      <td>6</td>\n",
       "      <td>6</td>\n",
       "      <td>7</td>\n",
       "      <td>tp006</td>\n",
       "      <td>1</td>\n",
       "    </tr>\n",
       "    <tr>\n",
       "      <th>3</th>\n",
       "      <td>8e645922-1268-4c6b-ae6b-7b1605689cca</td>\n",
       "      <td>ele0001754</td>\n",
       "      <td>2018-10-03</td>\n",
       "      <td>ar00000105</td>\n",
       "      <td>art01</td>\n",
       "      <td>arc03</td>\n",
       "      <td>ga00000662</td>\n",
       "      <td>ut005</td>\n",
       "      <td>8</td>\n",
       "      <td>7</td>\n",
       "      <td>8</td>\n",
       "      <td>tp014</td>\n",
       "      <td>1</td>\n",
       "    </tr>\n",
       "    <tr>\n",
       "      <th>4</th>\n",
       "      <td>b44f10b1-9238-44db-8f0c-2d68e8c015a7</td>\n",
       "      <td>ele0002087</td>\n",
       "      <td>2018-10-03</td>\n",
       "      <td>ar00000148</td>\n",
       "      <td>art02</td>\n",
       "      <td>arc03</td>\n",
       "      <td>ga00001256</td>\n",
       "      <td>ut011</td>\n",
       "      <td>7</td>\n",
       "      <td>6</td>\n",
       "      <td>8</td>\n",
       "      <td>tp013</td>\n",
       "      <td>1</td>\n",
       "    </tr>\n",
       "  </tbody>\n",
       "</table>\n",
       "</div>"
      ],
      "text/plain": [
       "                                case_id equipment_id completion_date  \\\n",
       "0  b7c775ad-4ebe-4848-9c53-37e7c5658e21   ele0000754      2018-10-03   \n",
       "1  b177eefd-3946-4949-9699-0a91879350f9   ele0000789      2018-10-03   \n",
       "2  fc2d568a-c53c-43ef-8871-a49ec22ab3b1   ele0001227      2018-10-03   \n",
       "3  8e645922-1268-4c6b-ae6b-7b1605689cca   ele0001754      2018-10-03   \n",
       "4  b44f10b1-9238-44db-8f0c-2d68e8c015a7   ele0002087      2018-10-03   \n",
       "\n",
       "  action_recommendation_id action_recommendation_type  \\\n",
       "0               ar00000174                      art01   \n",
       "1               ar00000248                      art02   \n",
       "2               ar00000158                      art02   \n",
       "3               ar00000105                      art01   \n",
       "4               ar00000148                      art02   \n",
       "\n",
       "  action_recommendation_category equipment_area usage_type  speed_category  \\\n",
       "0                          arc03     ga00000803      ut012               7   \n",
       "1                          arc03     ga00000269      ut005               4   \n",
       "2                          arc03     ga00000064      ut011               6   \n",
       "3                          arc03     ga00000662      ut005               8   \n",
       "4                          arc03     ga00001256      ut011               7   \n",
       "\n",
       "   load_category  floors_category equipment_category  feedback  \n",
       "0              6                8              tp006         1  \n",
       "1              6                2              tp001         1  \n",
       "2              6                7              tp006         1  \n",
       "3              7                8              tp014         1  \n",
       "4              6                8              tp013         1  "
      ]
     },
     "execution_count": 3,
     "metadata": {},
     "output_type": "execute_result"
    }
   ],
   "source": [
    "#first 5 rows of train dataset\n",
    "df.head()"
   ]
  },
  {
   "cell_type": "markdown",
   "metadata": {},
   "source": [
    "### Observe unique values in the dataset"
   ]
  },
  {
   "cell_type": "code",
   "execution_count": 4,
   "metadata": {},
   "outputs": [
    {
     "data": {
      "text/plain": [
       "array(['art01', 'art02', 'art03'], dtype=object)"
      ]
     },
     "execution_count": 4,
     "metadata": {},
     "output_type": "execute_result"
    }
   ],
   "source": [
    "df[\"action_recommendation_type\"].unique()"
   ]
  },
  {
   "cell_type": "markdown",
   "metadata": {},
   "source": [
    "3 unique values in action_recommesation_type"
   ]
  },
  {
   "cell_type": "code",
   "execution_count": 5,
   "metadata": {},
   "outputs": [
    {
     "data": {
      "text/plain": [
       "array(['arc03', 'arc01', 'arc02', 'arc05', 'arc04', 'arc06'], dtype=object)"
      ]
     },
     "execution_count": 5,
     "metadata": {},
     "output_type": "execute_result"
    }
   ],
   "source": [
    "df[\"action_recommendation_category\"].unique()"
   ]
  },
  {
   "cell_type": "code",
   "execution_count": null,
   "metadata": {},
   "outputs": [],
   "source": []
  },
  {
   "cell_type": "code",
   "execution_count": 8,
   "metadata": {},
   "outputs": [
    {
     "data": {
      "text/plain": [
       "295"
      ]
     },
     "execution_count": 8,
     "metadata": {},
     "output_type": "execute_result"
    }
   ],
   "source": [
    "# number of unique action_recommendation_id\n",
    "len(df[\"action_recommendation_id\"].unique())"
   ]
  },
  {
   "cell_type": "code",
   "execution_count": 10,
   "metadata": {},
   "outputs": [
    {
     "data": {
      "text/plain": [
       "1285"
      ]
     },
     "execution_count": 10,
     "metadata": {},
     "output_type": "execute_result"
    }
   ],
   "source": [
    "# number of unique equipment_area\n",
    "len(df[\"equipment_area\"].unique())"
   ]
  },
  {
   "cell_type": "code",
   "execution_count": 44,
   "metadata": {},
   "outputs": [
    {
     "data": {
      "text/plain": [
       "73945"
      ]
     },
     "execution_count": 44,
     "metadata": {},
     "output_type": "execute_result"
    }
   ],
   "source": [
    "# number of unique case_id\n",
    "len(df[\"case_id\"].unique())"
   ]
  },
  {
   "cell_type": "code",
   "execution_count": 11,
   "metadata": {},
   "outputs": [
    {
     "data": {
      "text/plain": [
       "array(['ut012', 'ut005', 'ut011', 'ut007', 'ut008', 'ut013', 'ut009',\n",
       "       'ut003', 'ut010', 'ut001', 'ut004', 'ut002', 'ut006'], dtype=object)"
      ]
     },
     "execution_count": 11,
     "metadata": {},
     "output_type": "execute_result"
    }
   ],
   "source": [
    "# unique values of usage_type\n",
    "df[\"usage_type\"].unique()"
   ]
  },
  {
   "cell_type": "code",
   "execution_count": 12,
   "metadata": {},
   "outputs": [
    {
     "data": {
      "text/plain": [
       "13"
      ]
     },
     "execution_count": 12,
     "metadata": {},
     "output_type": "execute_result"
    }
   ],
   "source": [
    "#number of unique values of usage_type\n",
    "len(df[\"usage_type\"].unique())"
   ]
  },
  {
   "cell_type": "code",
   "execution_count": 13,
   "metadata": {},
   "outputs": [
    {
     "data": {
      "text/plain": [
       "array([8, 2, 7, 5, 4, 6, 1, 3])"
      ]
     },
     "execution_count": 13,
     "metadata": {},
     "output_type": "execute_result"
    }
   ],
   "source": [
    "#unique values of floors_category\n",
    "df[\"floors_category\"].unique()"
   ]
  },
  {
   "cell_type": "code",
   "execution_count": 14,
   "metadata": {},
   "outputs": [
    {
     "data": {
      "text/plain": [
       "array(['tp006', 'tp001', 'tp014', 'tp013', 'tp004', 'tp012', 'tp011',\n",
       "       'tp009', 'tp005', 'tp008', 'tp003', 'tp010', 'tp002', 'tp007',\n",
       "       'tp016', 'ec020', 'tp017', 'tp015', 'tp018', 'tp019'], dtype=object)"
      ]
     },
     "execution_count": 14,
     "metadata": {},
     "output_type": "execute_result"
    }
   ],
   "source": [
    "#unique values of equipment category\n",
    "df[\"equipment_category\"].unique()"
   ]
  },
  {
   "cell_type": "code",
   "execution_count": 15,
   "metadata": {},
   "outputs": [
    {
     "data": {
      "text/plain": [
       "array([7, 4, 6, 8, 5, 3, 1, 2])"
      ]
     },
     "execution_count": 15,
     "metadata": {},
     "output_type": "execute_result"
    }
   ],
   "source": [
    "#unique values of speed_category\n",
    "df[\"speed_category\"].unique()"
   ]
  },
  {
   "cell_type": "code",
   "execution_count": 17,
   "metadata": {},
   "outputs": [
    {
     "data": {
      "text/plain": [
       "466"
      ]
     },
     "execution_count": 17,
     "metadata": {},
     "output_type": "execute_result"
    }
   ],
   "source": [
    "#number of unique dates\n",
    "len(df[\"completion_date\"].unique())"
   ]
  },
  {
   "cell_type": "code",
   "execution_count": 55,
   "metadata": {},
   "outputs": [
    {
     "data": {
      "text/plain": [
       "247.80042918454936"
      ]
     },
     "execution_count": 55,
     "metadata": {},
     "output_type": "execute_result"
    }
   ],
   "source": [
    "#average number of calls per day\n",
    "calls= len(df[\"completion_date\"])/len(df[\"completion_date\"].unique())\n",
    "calls"
   ]
  },
  {
   "cell_type": "markdown",
   "metadata": {},
   "source": [
    "### Average 248 calls per day"
   ]
  },
  {
   "cell_type": "code",
   "execution_count": 18,
   "metadata": {},
   "outputs": [
    {
     "data": {
      "text/plain": [
       "30000"
      ]
     },
     "execution_count": 18,
     "metadata": {},
     "output_type": "execute_result"
    }
   ],
   "source": [
    "#number of unique equipment \n",
    "len(df[\"equipment_id\"].unique())"
   ]
  },
  {
   "cell_type": "markdown",
   "metadata": {},
   "source": [
    "### Statistical info in numirical columns"
   ]
  },
  {
   "cell_type": "code",
   "execution_count": 23,
   "metadata": {},
   "outputs": [
    {
     "data": {
      "text/html": [
       "<div>\n",
       "<style scoped>\n",
       "    .dataframe tbody tr th:only-of-type {\n",
       "        vertical-align: middle;\n",
       "    }\n",
       "\n",
       "    .dataframe tbody tr th {\n",
       "        vertical-align: top;\n",
       "    }\n",
       "\n",
       "    .dataframe thead th {\n",
       "        text-align: right;\n",
       "    }\n",
       "</style>\n",
       "<table border=\"1\" class=\"dataframe\">\n",
       "  <thead>\n",
       "    <tr style=\"text-align: right;\">\n",
       "      <th></th>\n",
       "      <th>speed_category</th>\n",
       "      <th>load_category</th>\n",
       "      <th>floors_category</th>\n",
       "      <th>feedback</th>\n",
       "    </tr>\n",
       "  </thead>\n",
       "  <tbody>\n",
       "    <tr>\n",
       "      <th>count</th>\n",
       "      <td>115475.000000</td>\n",
       "      <td>115475.000000</td>\n",
       "      <td>115475.000000</td>\n",
       "      <td>115475.000000</td>\n",
       "    </tr>\n",
       "    <tr>\n",
       "      <th>mean</th>\n",
       "      <td>4.723126</td>\n",
       "      <td>4.843239</td>\n",
       "      <td>5.285386</td>\n",
       "      <td>0.877688</td>\n",
       "    </tr>\n",
       "    <tr>\n",
       "      <th>std</th>\n",
       "      <td>1.503055</td>\n",
       "      <td>2.120768</td>\n",
       "      <td>2.195409</td>\n",
       "      <td>0.327647</td>\n",
       "    </tr>\n",
       "    <tr>\n",
       "      <th>min</th>\n",
       "      <td>1.000000</td>\n",
       "      <td>1.000000</td>\n",
       "      <td>1.000000</td>\n",
       "      <td>0.000000</td>\n",
       "    </tr>\n",
       "    <tr>\n",
       "      <th>25%</th>\n",
       "      <td>4.000000</td>\n",
       "      <td>3.000000</td>\n",
       "      <td>3.000000</td>\n",
       "      <td>1.000000</td>\n",
       "    </tr>\n",
       "    <tr>\n",
       "      <th>50%</th>\n",
       "      <td>4.000000</td>\n",
       "      <td>6.000000</td>\n",
       "      <td>6.000000</td>\n",
       "      <td>1.000000</td>\n",
       "    </tr>\n",
       "    <tr>\n",
       "      <th>75%</th>\n",
       "      <td>6.000000</td>\n",
       "      <td>6.000000</td>\n",
       "      <td>7.000000</td>\n",
       "      <td>1.000000</td>\n",
       "    </tr>\n",
       "    <tr>\n",
       "      <th>max</th>\n",
       "      <td>8.000000</td>\n",
       "      <td>8.000000</td>\n",
       "      <td>8.000000</td>\n",
       "      <td>1.000000</td>\n",
       "    </tr>\n",
       "  </tbody>\n",
       "</table>\n",
       "</div>"
      ],
      "text/plain": [
       "       speed_category  load_category  floors_category       feedback\n",
       "count   115475.000000  115475.000000    115475.000000  115475.000000\n",
       "mean         4.723126       4.843239         5.285386       0.877688\n",
       "std          1.503055       2.120768         2.195409       0.327647\n",
       "min          1.000000       1.000000         1.000000       0.000000\n",
       "25%          4.000000       3.000000         3.000000       1.000000\n",
       "50%          4.000000       6.000000         6.000000       1.000000\n",
       "75%          6.000000       6.000000         7.000000       1.000000\n",
       "max          8.000000       8.000000         8.000000       1.000000"
      ]
     },
     "execution_count": 23,
     "metadata": {},
     "output_type": "execute_result"
    }
   ],
   "source": [
    "df.describe()"
   ]
  },
  {
   "cell_type": "markdown",
   "metadata": {},
   "source": [
    "### Plots"
   ]
  },
  {
   "cell_type": "code",
   "execution_count": 56,
   "metadata": {},
   "outputs": [
    {
     "data": {
      "image/png": "[encoded data removed]",
      "text/plain": [
       "<Figure size 432x288 with 1 Axes>"
      ]
     },
     "metadata": {
      "needs_background": "light"
     },
     "output_type": "display_data"
    }
   ],
   "source": [
    "df.hist('feedback', bins = 60)\n",
    "plt.show()"
   ]
  },
  {
   "cell_type": "code",
   "execution_count": 30,
   "metadata": {},
   "outputs": [
    {
     "data": {
      "image/png": "[encoded data removed]",
      "text/plain": [
       "<Figure size 875.75x720 with 1 Axes>"
      ]
     },
     "metadata": {
      "needs_background": "light"
     },
     "output_type": "display_data"
    }
   ],
   "source": [
    "#barplot speed_category depending on action_recommendation_type\n",
    "sns.catplot(y=\"speed_category\", hue=\"action_recommendation_type\", data=df, height=10, kind=\"count\")\n",
    "plt.show()"
   ]
  },
  {
   "cell_type": "code",
   "execution_count": 32,
   "metadata": {},
   "outputs": [
    {
     "data": {
      "image/png": "[encoded data removed]",
      "text/plain": [
       "<Figure size 875.75x720 with 1 Axes>"
      ]
     },
     "metadata": {
      "needs_background": "light"
     },
     "output_type": "display_data"
    }
   ],
   "source": [
    "#barplot load_category depending on action_recommendation_type\n",
    "sns.catplot(y=\"load_category\", hue=\"action_recommendation_type\", data=df, height=10, kind=\"count\")\n",
    "plt.show()"
   ]
  },
  {
   "cell_type": "code",
   "execution_count": 33,
   "metadata": {},
   "outputs": [
    {
     "data": {
      "image/png": "[encoded data removed]",
      "text/plain": [
       "<Figure size 875.75x720 with 1 Axes>"
      ]
     },
     "metadata": {
      "needs_background": "light"
     },
     "output_type": "display_data"
    }
   ],
   "source": [
    "#barplot floors_category depending on action_recommendation_type\n",
    "sns.catplot(y=\"floors_category\", hue=\"action_recommendation_type\", data=df, height=10, kind=\"count\")\n",
    "plt.show()"
   ]
  },
  {
   "cell_type": "code",
   "execution_count": 31,
   "metadata": {},
   "outputs": [
    {
     "data": {
      "image/png": "[encoded data removed]",
      "text/plain": [
       "<Figure size 897.625x720 with 1 Axes>"
      ]
     },
     "metadata": {
      "needs_background": "light"
     },
     "output_type": "display_data"
    }
   ],
   "source": [
    "#barplot speed_category depending on action_recommendation_category\n",
    "sns.catplot(y=\"speed_category\", hue=\"action_recommendation_category\", data=df, height=10, kind=\"count\")\n",
    "plt.show()"
   ]
  },
  {
   "cell_type": "code",
   "execution_count": 38,
   "metadata": {},
   "outputs": [
    {
     "data": {
      "image/png": "[encoded data removed]",
      "text/plain": [
       "<Figure size 432x288 with 1 Axes>"
      ]
     },
     "metadata": {
      "needs_background": "light"
     },
     "output_type": "display_data"
    }
   ],
   "source": [
    "#barplot usage_type depending on speed_category\n",
    "sns.barplot(x = \"usage_type\", y = \"speed_category\", data=df, hue= \"feedback\")\n",
    "plt.show()"
   ]
  },
  {
   "cell_type": "code",
   "execution_count": 36,
   "metadata": {},
   "outputs": [
    {
     "data": {
      "image/png": "[encoded data removed]",
      "text/plain": [
       "<Figure size 432x288 with 1 Axes>"
      ]
     },
     "metadata": {
      "needs_background": "light"
     },
     "output_type": "display_data"
    }
   ],
   "source": [
    "#barplot usage_type depending on load_category\n",
    "sns.barplot(x = \"usage_type\", y = \"load_category\", data=df, hue= \"feedback\")\n",
    "plt.show()"
   ]
  },
  {
   "cell_type": "code",
   "execution_count": 40,
   "metadata": {},
   "outputs": [
    {
     "data": {
      "image/png": "[encoded data removed]",
      "text/plain": [
       "<Figure size 432x288 with 1 Axes>"
      ]
     },
     "metadata": {
      "needs_background": "light"
     },
     "output_type": "display_data"
    }
   ],
   "source": [
    "#barplot usage_type depending on floors_category\n",
    "sns.barplot(x = \"usage_type\", y = \"floors_category\", data=df, hue= \"feedback\")\n",
    "plt.show()"
   ]
  },
  {
   "cell_type": "code",
   "execution_count": null,
   "metadata": {},
   "outputs": [],
   "source": []
  }
 ],
 "metadata": {
  "kernelspec": {
   "display_name": "Python 3",
   "language": "python",
   "name": "python3"
  },
  "language_info": {
   "codemirror_mode": {
    "name": "ipython",
    "version": 3
   },
   "file_extension": ".py",
   "mimetype": "text/x-python",
   "name": "python",
   "nbconvert_exporter": "python",
   "pygments_lexer": "ipython3",
   "version": "3.8.5"
  }
 },
 "nbformat": 4,
 "nbformat_minor": 4
}
